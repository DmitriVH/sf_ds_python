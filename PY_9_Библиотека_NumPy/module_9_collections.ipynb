{
 "cells": [
  {
   "cell_type": "code",
   "execution_count": 4,
   "metadata": {},
   "outputs": [
    {
     "name": "stdout",
     "output_type": "stream",
     "text": [
      "Counter({'red': 1})\n"
     ]
    }
   ],
   "source": [
    "from collections import Counter\n",
    "c= Counter()\n",
    "c['red'] += 1\n",
    "print(c)"
   ]
  },
  {
   "cell_type": "code",
   "execution_count": 5,
   "metadata": {},
   "outputs": [
    {
     "name": "stdout",
     "output_type": "stream",
     "text": [
      "Counter({'red': 3, 'black': 3, 'blue': 2, 'white': 1})\n"
     ]
    }
   ],
   "source": [
    "cars = ['red', 'blue', 'black', 'black', 'black', 'red', 'blue', 'red', 'white']\n",
    "c = Counter()\n",
    "for car in cars:print\n",
    "    c[car] += 1\n",
    " \n",
    "print(c)"
   ]
  },
  {
   "cell_type": "code",
   "execution_count": 6,
   "metadata": {},
   "outputs": [
    {
     "name": "stdout",
     "output_type": "stream",
     "text": [
      "Counter({'red': 3, 'black': 3, 'blue': 2, 'white': 1})\n"
     ]
    }
   ],
   "source": [
    "c = Counter(cars)\n",
    "print(c)\n",
    "# Counter({'red': 3, 'black': 3, 'blue': 2, 'white': 1})"
   ]
  },
  {
   "cell_type": "code",
   "execution_count": 10,
   "metadata": {},
   "outputs": [
    {
     "name": "stdout",
     "output_type": "stream",
     "text": [
      "3\n",
      "0\n",
      "9\n",
      "dict_values([3, 2, 3, 1])\n"
     ]
    }
   ],
   "source": [
    "print(c['black'])\n",
    "print(c['purple'])\n",
    "print(sum(c.values()))\n",
    "print(c.values())"
   ]
  },
  {
   "cell_type": "code",
   "execution_count": 12,
   "metadata": {},
   "outputs": [
    {
     "name": "stdout",
     "output_type": "stream",
     "text": [
      "Counter({'black': 4, 'yellow': 3, 'white': 2})\n",
      "Counter({'white': 3, 'red': 2, 'black': 2, 'yellow': 2})\n"
     ]
    }
   ],
   "source": [
    "cars_moscow = ['black', 'black', 'white', 'black', 'black', 'white', 'yellow', 'yellow', 'yellow']\n",
    "cars_spb = ['red', 'black', 'black', 'white', 'white', 'yellow', 'yellow', 'red', 'white']\n",
    "\n",
    "counter_moscow = Counter(cars_moscow)\n",
    "counter_spb = Counter(cars_spb)\n",
    " \n",
    "print(counter_moscow)\n",
    "print(counter_spb)"
   ]
  },
  {
   "cell_type": "code",
   "execution_count": 13,
   "metadata": {},
   "outputs": [
    {
     "name": "stdout",
     "output_type": "stream",
     "text": [
      "Counter({'black': 6, 'white': 5, 'yellow': 5, 'red': 2})\n"
     ]
    }
   ],
   "source": [
    "print(counter_moscow + counter_spb)\n",
    "# Counter({'black': 6, 'white': 5, 'yellow': 5, 'red': 2})"
   ]
  },
  {
   "cell_type": "code",
   "execution_count": 14,
   "metadata": {},
   "outputs": [
    {
     "name": "stdout",
     "output_type": "stream",
     "text": [
      "Counter({'black': 2, 'yellow': 1, 'white': -1, 'red': -2})\n"
     ]
    }
   ],
   "source": [
    "counter_moscow.subtract(counter_spb)\n",
    "print(counter_moscow)"
   ]
  },
  {
   "cell_type": "code",
   "execution_count": 16,
   "metadata": {},
   "outputs": [
    {
     "name": "stdout",
     "output_type": "stream",
     "text": [
      "Counter({'black': 2, 'yellow': 1})\n"
     ]
    }
   ],
   "source": [
    "counter_moscow = Counter(cars_moscow)\n",
    "counter_spb = Counter(cars_spb)\n",
    "print(counter_moscow - counter_spb)"
   ]
  },
  {
   "cell_type": "code",
   "execution_count": 17,
   "metadata": {},
   "outputs": [
    {
     "name": "stdout",
     "output_type": "stream",
     "text": [
      "black black black black white white yellow yellow yellow\n"
     ]
    }
   ],
   "source": [
    "print(*counter_moscow.elements())"
   ]
  },
  {
   "cell_type": "code",
   "execution_count": 18,
   "metadata": {},
   "outputs": [
    {
     "name": "stdout",
     "output_type": "stream",
     "text": [
      "['black', 'white', 'yellow']\n"
     ]
    }
   ],
   "source": [
    "print(list(counter_moscow))"
   ]
  },
  {
   "cell_type": "code",
   "execution_count": 19,
   "metadata": {},
   "outputs": [
    {
     "name": "stdout",
     "output_type": "stream",
     "text": [
      "{'black': 4, 'white': 2, 'yellow': 3}\n"
     ]
    }
   ],
   "source": [
    "print(dict(counter_moscow))"
   ]
  },
  {
   "cell_type": "code",
   "execution_count": 20,
   "metadata": {},
   "outputs": [
    {
     "name": "stdout",
     "output_type": "stream",
     "text": [
      "[('black', 4), ('yellow', 3), ('white', 2)]\n"
     ]
    }
   ],
   "source": [
    "print(counter_moscow.most_common())"
   ]
  },
  {
   "cell_type": "code",
   "execution_count": 21,
   "metadata": {},
   "outputs": [
    {
     "name": "stdout",
     "output_type": "stream",
     "text": [
      "[('black', 4), ('yellow', 3)]\n"
     ]
    }
   ],
   "source": [
    "print(counter_moscow.most_common(2))"
   ]
  },
  {
   "cell_type": "code",
   "execution_count": 22,
   "metadata": {},
   "outputs": [
    {
     "name": "stdout",
     "output_type": "stream",
     "text": [
      "Counter()\n"
     ]
    }
   ],
   "source": [
    "counter_moscow.clear()\n",
    "print(counter_moscow)"
   ]
  },
  {
   "cell_type": "markdown",
   "metadata": {},
   "source": [
    "\n",
    "Задание 2.3\n",
    "Из списка карт постоянных покупателей clients выберите номер карты наиболее частого клиента. Впишите этот номер в качестве ответа.\n",
    "953421116\n",
    " \n",
    "Задание 2.4\n",
    "Сколько раз был в магазине покупатель с картой под номером 953421102?\n",
    "\n",
    "Задание 2.5\n",
    "Сколько уникальных номеров карт содержит список clients?"
   ]
  },
  {
   "cell_type": "code",
   "execution_count": 35,
   "metadata": {},
   "outputs": [
    {
     "name": "stdout",
     "output_type": "stream",
     "text": [
      "5\n",
      "94\n"
     ]
    }
   ],
   "source": [
    "\n",
    "#from hidden import clients\n",
    "from collections import Counter\n",
    "#print(clients)\n",
    "#print(Counter(clients))\n",
    "\n",
    "#получаем\n",
    "clients = [953421196, 953421161, 953421142, 953421186, 953421181, 953421144, 953421190, 953421184, 953421141, 953421193, 953421129, 953421158, 953421130, 953421177, 953421181, 953421136, 953421160, 953421184, 953421146, 953421175, 953421110, 953421139, 953421100, 953421116, 953421130, 953421179, 953421181, 953421136, 953421174, 953421167, 953421132, 953421195, 953421145, 953421108, 953421143, 953421133, 953421180, 953421149, 953421135, 953421195, 953421143, 953421131, 953421157, 953421189, 953421128, 953421132, 953421127, 953421151, 953421197, 953421160, 953421112, 953421155, 953421182, 953421168, 953421131, 953421156, 953421113, 953421102, 953421113, 953421192, 953421142, 953421105, 953421165, 953421175, 953421102, 953421195, 953421154, 953421165, 953421141, 953421166, 953421126, 953421143, 953421165, 953421150, 953421187, 953421129, 953421176, 953421169, 953421109, 953421177, 953421109, 953421150, 953421136, 953421140, 953421189, 953421198, 953421186, 953421159, 953421184, 953421182, 953421133, 953421103, 953421186, 953421132, 953421121, 953421107, 953421138, 953421190, 953421113, 953421161, 953421154, 953421161, 953421107, 953421113, 953421180, 953421191, 953421178, 953421116, 953421102, 953421167, 953421191, 953421187, 953421182, 953421118, 953421122, 953421157, 953421195, 953421141, 953421116, 953421176, 953421194, 953421163, 953421116, 953421197, 953421189, 953421177, 953421133, 953421138, 953421101, 953421116, 953421128, 953421104, 953421165, 953421113, 953421135, 953421150, 953421165, 953421154, 953421165, 953421161, 953421188, 953421177, 953421189, 953421128, 953421116, 953421177, 953421147, 953421152, 953421175, 953421151, 953421183, 953421195, 953421142, 953421132, 953421148, 953421112, 953421111, 953421121, 953421125, 953421171, 953421169, 953421127, 953421191, 953421194, 953421114, 953421112, 953421142, 953421144, 953421176, 953421120, 953421134, 953421183, 953421140, 953421144, 953421172, 953421189, 953421143, 953421188, 953421176, 953421142, 953421117, 953421140, 953421155, 953421158, 953421131, 953421187, 953421156, 953421120, 953421118, 953421184, 953421171, 953421186, 953421115, 953421101, 953421124, 953421151, 953421153, 953421141, 953421156, 953421144, 953421135, 953421109, 953421177, 953421144, 953421109, 953421148, 953421144, 953421111, 953421161, 953421133, 953421144, 953421118, 953421137, 953421182, 953421111, 953421178, 953421100, 953421160, 953421175, 953421171, 953421149, 953421156, 953421187, 953421198, 953421117, 953421100, 953421167, 953421118, 953421136, 953421101, 953421163, 953421133, 953421133, 953421136, 953421116, 953421141, 953421163, 953421152, 953421193, 953421197, 953421142, 953421172, 953421152, 953421190, 953421193, 953421102, 953421149, 953421117, 953421160, 953421161, 953421147, 953421170, 953421161, 953421147, 953421172, 953421174, 953421168, 953421121, 953421190, 953421162, 953421173, 953421110, 953421111, 953421154, 953421157, 953421161, 953421179, 953421191, 953421155, 953421139, 953421180, 953421189, 953421155, 953421109, 953421169, 953421174, 953421192, 953421104, 953421116, 953421112, 953421151, 953421169, 953421149, 953421176, 953421102, 953421136, 953421146, 953421152, 953421146, 953421152, 953421116, 953421108, 953421183, 953421128, 953421150, 953421158, 953421194, 953421136, 953421104, 953421139]\n",
    "Counter({953421116: 9, 953421161: 8, 953421136: 7, 953421144: 7, 953421133: 6, 953421142: 6, 953421165: 6, 953421177: 6, 953421189: 6, 953421102: 5, 953421109: 5, 953421113: 5, 953421141: 5, 953421152: 5, 953421176: 5, 953421195: 5, 953421111: 4, 953421112: 4, 953421118: 4, 953421128: 4, 953421132: 4, 953421143: 4, 953421149: 4, 953421150: 4, 953421151: 4, 953421154: 4, 953421155: 4, 953421156: 4, 953421160: 4, 953421169: 4, 953421175: 4, 953421182: 4, 953421184: 4, 953421186: 4, 953421187: 4, 953421190: 4, 953421191: 4, 953421100: 3, 953421101: 3, 953421104: 3, 953421117: 3, 953421121: 3, 953421131: 3, 953421135: 3, 953421139: 3, 953421140: 3, 953421146: 3, 953421147: 3, 953421157: 3, 953421158: 3, 953421163: 3, 953421167: 3, 953421171: 3, 953421172: 3, 953421174: 3, 953421180: 3, 953421181: 3, 953421183: 3, 953421193: 3, 953421194: 3, 953421197: 3, 953421107: 2, 953421108: 2, 953421110: 2, 953421120: 2, 953421127: 2, 953421129: 2, 953421130: 2, 953421138: 2, 953421148: 2, 953421168: 2, 953421178: 2, 953421179: 2, 953421188: 2, 953421192: 2, 953421198: 2, 953421103: 1, 953421105: 1, 953421114: 1, 953421115: 1, 953421122: 1, 953421124: 1, 953421125: 1, 953421126: 1, 953421134: 1, 953421137: 1, 953421145: 1, 953421153: 1, 953421159: 1, 953421162: 1, 953421166: 1, 953421170: 1, 953421173: 1, 953421196: 1})\n",
    "\n",
    "c = Counter(clients)\n",
    "print(c[953421102])\n",
    "\n",
    "print(len(list(c)))"
   ]
  },
  {
   "cell_type": "markdown",
   "metadata": {},
   "source": [
    "DEFAULTDICT"
   ]
  },
  {
   "cell_type": "code",
   "execution_count": 40,
   "metadata": {},
   "outputs": [
    {
     "name": "stdout",
     "output_type": "stream",
     "text": [
      "{1: ['Ivanov', 'Kuznetsova'], 4: ['Smirnov'], 3: ['Petrov', 'Markov'], 2: ['Nikitina', 'Pavlov']}\n"
     ]
    }
   ],
   "source": [
    "students = [('Ivanov',1),('Smirnov',4),('Petrov',3),('Kuznetsova',1),\n",
    "            ('Nikitina',2),('Markov',3),('Pavlov',2)]\n",
    "\n",
    "groups = dict()\n",
    " \n",
    "for student, group in students:\n",
    "    # Проверяем, есть ли уже эта группа в словаре\n",
    "    if group not in groups:\n",
    "        # Если группы ещё нет в словаре, создаём для неё пустой список\n",
    "        groups[group] = list()\n",
    "    groups[group].append(student)\n",
    " \n",
    "print(groups)"
   ]
  },
  {
   "cell_type": "code",
   "execution_count": 42,
   "metadata": {},
   "outputs": [
    {
     "name": "stdout",
     "output_type": "stream",
     "text": [
      "defaultdict(<class 'list'>, {1: ['Ivanov', 'Kuznetsova'], 4: ['Smirnov'], 3: ['Petrov', 'Markov'], 2: ['Nikitina', 'Pavlov']})\n"
     ]
    }
   ],
   "source": [
    "from collections import defaultdict\n",
    "groups = defaultdict(list)\n",
    "\n",
    "for student, group in students:\n",
    "    groups[group].append(student)\n",
    " \n",
    "print(groups)"
   ]
  },
  {
   "cell_type": "code",
   "execution_count": 43,
   "metadata": {},
   "outputs": [
    {
     "name": "stdout",
     "output_type": "stream",
     "text": [
      "['Petrov', 'Markov']\n"
     ]
    }
   ],
   "source": [
    "print(groups[3])"
   ]
  },
  {
   "cell_type": "code",
   "execution_count": 44,
   "metadata": {},
   "outputs": [
    {
     "name": "stdout",
     "output_type": "stream",
     "text": [
      "[]\n"
     ]
    }
   ],
   "source": [
    "print(groups[2021])"
   ]
  },
  {
   "cell_type": "code",
   "execution_count": 45,
   "metadata": {},
   "outputs": [
    {
     "name": "stdout",
     "output_type": "stream",
     "text": [
      "defaultdict(<class 'list'>, {1: ['Ivanov', 'Kuznetsova'], 4: ['Smirnov'], 3: ['Petrov', 'Markov'], 2: ['Nikitina', 'Pavlov'], 2021: []})\n"
     ]
    }
   ],
   "source": [
    "print(groups)"
   ]
  },
  {
   "cell_type": "code",
   "execution_count": 47,
   "metadata": {},
   "outputs": [
    {
     "name": "stdout",
     "output_type": "stream",
     "text": [
      "<class 'dict'>\n",
      "<class 'collections.defaultdict'>\n"
     ]
    }
   ],
   "source": [
    "dict_object = dict()\n",
    "defaultdict_object = defaultdict()\n",
    " \n",
    "print(type(dict_object))\n",
    "print(type(defaultdict_object))"
   ]
  },
  {
   "cell_type": "code",
   "execution_count": 49,
   "metadata": {},
   "outputs": [
    {
     "name": "stdout",
     "output_type": "stream",
     "text": [
      "{}\n",
      "defaultdict(None, {})\n"
     ]
    }
   ],
   "source": [
    "print(dict_object)\n",
    "print(defaultdict_object)\n"
   ]
  },
  {
   "cell_type": "markdown",
   "metadata": {},
   "source": [
    "Задание 2.8\n",
    "Определите, какая структура данных задана по умолчанию в словаре mystery."
   ]
  },
  {
   "cell_type": "code",
   "execution_count": 55,
   "metadata": {},
   "outputs": [],
   "source": [
    "#from hidden import mystery\n",
    "#print(mystery)\n",
    "\n",
    "#print(mystery['any_key'])\n",
    "\n",
    "#defaultdict(, {})\n",
    "#deque([])\n"
   ]
  },
  {
   "cell_type": "markdown",
   "metadata": {},
   "source": [
    "3. Модуль Collections. Deque и OrderedDict"
   ]
  },
  {
   "cell_type": "markdown",
   "metadata": {},
   "source": [
    "ORDEREDDICT"
   ]
  },
  {
   "cell_type": "code",
   "execution_count": 3,
   "metadata": {},
   "outputs": [
    {
     "name": "stdout",
     "output_type": "stream",
     "text": [
      "{'Ivan': 19, 'Mark': 25, 'Andrey': 23, 'Maria': 20}\n"
     ]
    }
   ],
   "source": [
    "data = [('Ivan', 19),('Mark', 25),('Andrey', 23),('Maria', 20)]\n",
    "client_ages = dict(data)\n",
    "print(client_ages)"
   ]
  },
  {
   "cell_type": "code",
   "execution_count": 6,
   "metadata": {},
   "outputs": [
    {
     "name": "stdout",
     "output_type": "stream",
     "text": [
      "OrderedDict([('Ivan', 19), ('Mark', 25), ('Andrey', 23), ('Maria', 20)])\n"
     ]
    }
   ],
   "source": [
    "from collections import OrderedDict\n",
    "data = [('Ivan', 19),('Mark', 25),('Andrey', 23),('Maria', 20)]\n",
    "ordered_client_ages = OrderedDict(data)\n",
    "print(ordered_client_ages)"
   ]
  },
  {
   "cell_type": "code",
   "execution_count": 13,
   "metadata": {},
   "outputs": [
    {
     "name": "stdout",
     "output_type": "stream",
     "text": [
      "OrderedDict([('Ivan', 19), ('Maria', 20), ('Andrey', 23), ('Mark', 25)])\n"
     ]
    }
   ],
   "source": [
    "data = [('Ivan', 19),('Mark', 25),('Andrey', 23),('Maria', 20)]\n",
    "# Сортируем по второму значению из кортежа, то есть по возрасту\n",
    "ordered_client_ages = OrderedDict(sorted(data, key=lambda x: x[1]))\n",
    "print(ordered_client_ages)"
   ]
  },
  {
   "cell_type": "code",
   "execution_count": 14,
   "metadata": {},
   "outputs": [
    {
     "name": "stdout",
     "output_type": "stream",
     "text": [
      "OrderedDict([('Ivan', 19), ('Maria', 20), ('Andrey', 23), ('Mark', 25), ('Nikita', 18)])\n"
     ]
    }
   ],
   "source": [
    "ordered_client_ages['Nikita'] = 18\n",
    "print(ordered_client_ages)"
   ]
  },
  {
   "cell_type": "code",
   "execution_count": 15,
   "metadata": {},
   "outputs": [
    {
     "name": "stdout",
     "output_type": "stream",
     "text": [
      "OrderedDict([('Ivan', 19), ('Maria', 20), ('Mark', 25), ('Nikita', 18)])\n",
      "OrderedDict([('Ivan', 19), ('Maria', 20), ('Mark', 25), ('Nikita', 18), ('Andrey', 23)])\n"
     ]
    }
   ],
   "source": [
    "del ordered_client_ages['Andrey']\n",
    "print(ordered_client_ages)\n",
    "# OrderedDict([('Ivan', 19), ('Mark', 25), ('Maria', 20), ('Nikita', 18)])\n",
    "ordered_client_ages['Andrey'] = 23\n",
    "print(ordered_client_ages)"
   ]
  },
  {
   "cell_type": "markdown",
   "metadata": {},
   "source": [
    "DEQUE"
   ]
  },
  {
   "cell_type": "code",
   "execution_count": 16,
   "metadata": {},
   "outputs": [
    {
     "name": "stdout",
     "output_type": "stream",
     "text": [
      "deque([])\n"
     ]
    }
   ],
   "source": [
    "from collections import deque\n",
    "dq = deque()\n",
    "print(dq)"
   ]
  },
  {
   "cell_type": "code",
   "execution_count": 17,
   "metadata": {},
   "outputs": [
    {
     "name": "stdout",
     "output_type": "stream",
     "text": [
      "deque(['Ivanov', 'Petrov', 'Smirnov', 'Tikhonova'])\n"
     ]
    }
   ],
   "source": [
    "clients = deque()\n",
    "clients.append('Ivanov')\n",
    "clients.append('Petrov')\n",
    "clients.append('Smirnov')\n",
    "clients.append('Tikhonova')\n",
    "print(clients)"
   ]
  },
  {
   "cell_type": "code",
   "execution_count": 18,
   "metadata": {},
   "outputs": [
    {
     "name": "stdout",
     "output_type": "stream",
     "text": [
      "Smirnov\n"
     ]
    }
   ],
   "source": [
    "print(clients[2])"
   ]
  },
  {
   "cell_type": "code",
   "execution_count": 19,
   "metadata": {},
   "outputs": [
    {
     "name": "stdout",
     "output_type": "stream",
     "text": [
      "First client: Ivanov\n",
      "Second client: Petrov\n",
      "deque(['Smirnov', 'Tikhonova'])\n"
     ]
    }
   ],
   "source": [
    "first_client = clients.popleft()\n",
    "second_client = clients.popleft()\n",
    " \n",
    "print(\"First client:\", first_client)\n",
    "print(\"Second client:\", second_client)\n",
    "print(clients)"
   ]
  },
  {
   "cell_type": "code",
   "execution_count": 20,
   "metadata": {},
   "outputs": [
    {
     "name": "stdout",
     "output_type": "stream",
     "text": [
      "deque(['Vip-client', 'Smirnov', 'Tikhonova'])\n"
     ]
    }
   ],
   "source": [
    "clients.appendleft('Vip-client')\n",
    " \n",
    "print(clients)"
   ]
  },
  {
   "cell_type": "code",
   "execution_count": 21,
   "metadata": {},
   "outputs": [
    {
     "name": "stdout",
     "output_type": "stream",
     "text": [
      "Tikhonova left the queue\n",
      "deque(['Vip-client', 'Smirnov'])\n"
     ]
    }
   ],
   "source": [
    "tired_client = clients.pop()\n",
    "print(tired_client, \"left the queue\")\n",
    "print(clients)"
   ]
  },
  {
   "cell_type": "code",
   "execution_count": 22,
   "metadata": {},
   "outputs": [
    {
     "name": "stdout",
     "output_type": "stream",
     "text": [
      "deque(['Ivanov', 'Petrov', 'Smirnov', 'Tikhonova'])\n",
      "deque(['Ivanov', 'Petrov', 'Tikhonova'])\n"
     ]
    }
   ],
   "source": [
    "clients = deque(['Ivanov', 'Petrov', 'Smirnov', 'Tikhonova'])\n",
    "print(clients)\n",
    "# deque(['Ivanov', 'Petrov', 'Smirnov', 'Tikhonova'])\n",
    "del clients[2]\n",
    "print(clients)\n",
    "# deque(['Ivanov', 'Petrov', 'Tikhonova'])"
   ]
  },
  {
   "cell_type": "code",
   "execution_count": 23,
   "metadata": {},
   "outputs": [
    {
     "name": "stdout",
     "output_type": "stream",
     "text": [
      "deque([1, 2, 3, 4, 5])\n",
      "deque([1, 2, 3, 4, 5, 11, 12, 13, 14, 15, 16, 17])\n"
     ]
    }
   ],
   "source": [
    "# В скобках передаём список при создании deque,\n",
    "# чтобы сразу добавить все его элементы в очередь\n",
    "shop = deque([1, 2, 3, 4, 5])\n",
    "print(shop)\n",
    "# deque([1, 2, 3, 4, 5])\n",
    "shop.extend([11, 12, 13, 14, 15, 16, 17])\n",
    "print(shop)\n",
    "# deque([1, 2, 3, 4, 5, 11, 12, 13, 14, 15, 16, 17])"
   ]
  },
  {
   "cell_type": "code",
   "execution_count": 24,
   "metadata": {},
   "outputs": [
    {
     "name": "stdout",
     "output_type": "stream",
     "text": [
      "deque([1, 2, 3, 4, 5])\n",
      "deque([17, 16, 15, 14, 13, 12, 11, 1, 2, 3, 4, 5])\n"
     ]
    }
   ],
   "source": [
    "shop = deque([1, 2, 3, 4, 5])\n",
    "print(shop)\n",
    "# deque([1, 2, 3, 4, 5])\n",
    "shop.extendleft([11, 12, 13, 14, 15, 16, 17])\n",
    "print(shop)\n",
    "# deque([17, 16, 15, 14, 13, 12, 11, 1, 2, 3, 4, 5])"
   ]
  },
  {
   "cell_type": "code",
   "execution_count": 25,
   "metadata": {},
   "outputs": [
    {
     "name": "stdout",
     "output_type": "stream",
     "text": [
      "deque([], maxlen=3)\n",
      "deque([5, 6, 7], maxlen=3)\n"
     ]
    }
   ],
   "source": [
    "limited = deque(maxlen=3)\n",
    "print(limited)\n",
    "# deque([], maxlen=3)\n",
    " \n",
    "limited_from_list = deque([1,3,4,5,6,7], maxlen=3)\n",
    "print(limited_from_list)"
   ]
  },
  {
   "cell_type": "code",
   "execution_count": 26,
   "metadata": {},
   "outputs": [
    {
     "name": "stdout",
     "output_type": "stream",
     "text": [
      "deque([1, 2, 3], maxlen=3)\n",
      "None\n",
      "deque([2, 3, 8], maxlen=3)\n"
     ]
    }
   ],
   "source": [
    "limited.extend([1,2,3])\n",
    "print(limited)\n",
    "# deque([1, 2, 3], maxlen=3)\n",
    " \n",
    "print(limited.append(8))\n",
    "# None\n",
    "print(limited)\n",
    "# deque([2, 3, 8], maxlen=3)"
   ]
  },
  {
   "cell_type": "code",
   "execution_count": 34,
   "metadata": {},
   "outputs": [
    {
     "name": "stdout",
     "output_type": "stream",
     "text": [
      "20.8; 21.3; 22.2; 23.3; 24.4; 24.9; 25.6; 26.2; 26.0; 25.9; 25.6; 25.1; 24.8; 24.2; 23.2; 22.6; 21.4; 20.4; 19.6; 19.1; 19.0; 19.0; 19.4; 20.0; 20.7; \n"
     ]
    }
   ],
   "source": [
    "temps = [20.6, 19.4, 19.0, 19.0, 22.1,\n",
    "        22.5, 22.8, 24.1, 25.6, 27.0,\n",
    "        27.0, 25.6, 26.8, 27.3, 22.5,\n",
    "        25.4, 24.4, 23.7, 23.6, 22.6,\n",
    "        20.4, 17.9, 17.3, 17.3, 18.1,\n",
    "        20.1, 22.2, 19.8, 21.3, 21.3,\n",
    "        21.9]\n",
    "\n",
    "days = deque(maxlen=7)\n",
    "\n",
    "for temp in temps:\n",
    "    # Добавляем температуру в очередь\n",
    "    days.append(temp)\n",
    "    # Если длина очереди оказалась равной максимальной длине очереди (7),\n",
    "    # печатаем среднюю температуру за последние 7 дней\n",
    "    if len(days) == days.maxlen:\n",
    "        print(round(sum(days) / len(days), 1), end='; ')\n",
    "# Напечатаем пустую строку, чтобы завершить действие параметра\n",
    "# end. Иначе следующая строка окажется напечатанной на предыдущей\n",
    "print(\"\")"
   ]
  },
  {
   "cell_type": "markdown",
   "metadata": {},
   "source": [
    "ДОПОЛНИТЕЛЬНЫЕ ФУНКЦИИ"
   ]
  },
  {
   "cell_type": "code",
   "execution_count": 35,
   "metadata": {},
   "outputs": [
    {
     "name": "stdout",
     "output_type": "stream",
     "text": [
      "deque([1, 2, 3, 4, 5])\n",
      "deque([5, 4, 3, 2, 1])\n"
     ]
    }
   ],
   "source": [
    "dq = deque([1,2,3,4,5])\n",
    "print(dq)\n",
    "# deque([1, 2, 3, 4, 5])\n",
    " \n",
    "dq.reverse()\n",
    "print(dq)"
   ]
  },
  {
   "cell_type": "code",
   "execution_count": 36,
   "metadata": {},
   "outputs": [
    {
     "name": "stdout",
     "output_type": "stream",
     "text": [
      "deque([1, 2, 3, 4, 5])\n",
      "deque([4, 5, 1, 2, 3])\n"
     ]
    }
   ],
   "source": [
    "dq = deque([1,2,3,4,5])\n",
    "print(dq)\n",
    "# deque([1, 2, 3, 4, 5])\n",
    " \n",
    "dq.rotate(2)\n",
    "print(dq)"
   ]
  },
  {
   "cell_type": "code",
   "execution_count": 37,
   "metadata": {},
   "outputs": [
    {
     "name": "stdout",
     "output_type": "stream",
     "text": [
      "deque([1, 2, 3, 4, 5])\n",
      "deque([3, 4, 5, 1, 2])\n"
     ]
    }
   ],
   "source": [
    "dq = deque([1,2,3,4,5])\n",
    "print(dq)\n",
    "# deque([1, 2, 3, 4, 5])\n",
    " \n",
    "# Отрицательное значение аргумента переносит\n",
    "# n элементов из начала в конец\n",
    "dq.rotate(-2)\n",
    "print(dq)"
   ]
  },
  {
   "cell_type": "code",
   "execution_count": 38,
   "metadata": {},
   "outputs": [
    {
     "name": "stdout",
     "output_type": "stream",
     "text": [
      "2\n",
      "6\n"
     ]
    }
   ],
   "source": [
    "dq = [1,2,4,2,3,1,5,4,4,4,4,4,3]\n",
    "print(dq.index(4))\n",
    "# 2\n",
    "print(dq.count(4))"
   ]
  },
  {
   "cell_type": "code",
   "execution_count": 40,
   "metadata": {},
   "outputs": [
    {
     "name": "stdout",
     "output_type": "stream",
     "text": [
      "0\n"
     ]
    }
   ],
   "source": [
    "dq = deque([1,2,4,2,3,1,5,4,4,4,4,4,3])\n",
    "print(dq.count(25))"
   ]
  },
  {
   "cell_type": "code",
   "execution_count": 41,
   "metadata": {},
   "outputs": [
    {
     "name": "stdout",
     "output_type": "stream",
     "text": [
      "deque([1, 2, 4, 2, 3, 1, 5, 4, 4, 4, 4, 4, 3])\n",
      "deque([])\n"
     ]
    }
   ],
   "source": [
    "dq = deque([1,2,4,2,3,1,5,4,4,4,4,4,3])\n",
    "print(dq)\n",
    "# deque([1, 2, 4, 2, 3, 1, 5, 4, 4, 4, 4, 4, 3])\n",
    "dq.clear()\n",
    "print(dq)"
   ]
  },
  {
   "cell_type": "markdown",
   "metadata": {},
   "source": [
    "ЗАДАНИЕ 3.2 (ВЫПОЛНЯЕТСЯ В CODEBOARD НИЖЕ)\n",
    "\n",
    "?\n",
    "\n",
    "Дан список из кортежей temps. На первом месте в кортеже указан год в виде строки, а на втором — средняя температура января в Петербурге в указанном году.\n",
    "\n",
    "Необходимо напечатать словарь, в котором ключи — годы, а значения — показатели температуры. Ключи необходимо отсортировать в порядке убывания соответствующих им температур.\n",
    "\n",
    "Пример входа:\n",
    "\n",
    "temps =  [('2000', -4.4), ('2001', -2.5), ('2002', -4.4), ('2003', -9.5)]\n",
    "Пример вывода:\n",
    "\n",
    "OrderedDict([('2001', -2.5), ('2000', -4.4), ('2002', -4.4), ('2003', -9.5)])"
   ]
  },
  {
   "cell_type": "code",
   "execution_count": 57,
   "metadata": {},
   "outputs": [
    {
     "name": "stdout",
     "output_type": "stream",
     "text": [
      "OrderedDict([('2020', 1.5), ('2005', -1.6), ('2008', -1.7), ('2007', -2.4), ('2001', -2.5), ('2015', -2.7), ('2018', -2.9), ('2009', -3.5), ('2017', -3.9), ('2000', -4.4), ('2002', -4.4), ('2012', -4.9), ('2011', -5.8), ('2006', -5.9), ('2013', -6.1), ('2019', -6.5), ('2014', -6.9), ('2004', -8.2), ('2003', -9.5), ('2016', -11.2), ('2010', -12.1)])\n"
     ]
    }
   ],
   "source": [
    "temps = [('2000', -4.4), ('2001', -2.5), ('2002', -4.4), ('2003', -9.5),\n",
    "        ('2004', -8.2), ('2005', -1.6), ('2006', -5.9), ('2007', -2.4),\n",
    "        ('2008', -1.7), ('2009', -3.5), ('2010', -12.1), ('2011', -5.8),\n",
    "        ('2012', -4.9), ('2013', -6.1), ('2014', -6.9), ('2015', -2.7),\n",
    "        ('2016', -11.2), ('2017', -3.9), ('2018', -2.9), ('2019', -6.5),\n",
    "        ('2020', 1.5)]\n",
    "         \n",
    "from collections import OrderedDict\n",
    "temps.sort(key=lambda x: x[1], reverse=True)\n",
    "od = OrderedDict(temps)\n",
    "print(od)"
   ]
  },
  {
   "cell_type": "markdown",
   "metadata": {},
   "source": [
    "В Codeboard ниже в списке users содержатся номера пользователей, которые ожидают ответа от сервера (номера могут повторяться). Превратите этот список в очередь и выполните задания 3.5-3.7."
   ]
  },
  {
   "cell_type": "markdown",
   "metadata": {},
   "source": [
    "Задание 3.5\n",
    "1 point possible (graded)\n",
    "Извлеките элемент из начала очереди. Запишите полученное значение элемента в качестве ответа."
   ]
  },
  {
   "cell_type": "code",
   "execution_count": 59,
   "metadata": {},
   "outputs": [],
   "source": [
    "#from hidden import users\n",
    "#from collections import deque\n",
    "#print(users)\n",
    "\n",
    "#users = deque(users)\n",
    "#user_id = users.popleft()\n",
    "#print(user_id)"
   ]
  },
  {
   "cell_type": "markdown",
   "metadata": {},
   "source": [
    "Задание 3.5\n",
    "1/1 point (graded)\n",
    "Извлеките элемент из начала очереди. Запишите полученное значение элемента в качестве ответа."
   ]
  },
  {
   "cell_type": "code",
   "execution_count": 61,
   "metadata": {},
   "outputs": [],
   "source": [
    "\n",
    "#user_id = users.rotate(-5)\n",
    "#print(users)\n",
    "#user_id = users.pop()\n",
    "#print(user_id)"
   ]
  },
  {
   "cell_type": "markdown",
   "metadata": {},
   "source": [
    "Задание 3.7\n",
    "1/1 point (graded)\n",
    "Сколько задач с тем номером, что был извлечён в предыдущем задании, осталось в модифицированной очереди? Запишите ответ в числовой форме."
   ]
  },
  {
   "cell_type": "code",
   "execution_count": null,
   "metadata": {},
   "outputs": [],
   "source": [
    "#print(users.count(user_id))"
   ]
  },
  {
   "cell_type": "markdown",
   "metadata": {},
   "source": [
    "4. Модуль Collections. Закрепление знаний"
   ]
  },
  {
   "cell_type": "markdown",
   "metadata": {},
   "source": [
    "ЗАДАНИЕ 4.3 (ВЫПОЛНЯЕТСЯ В CODEBOARD НИЖЕ)\n",
    "\n",
    "?\n",
    "\n",
    "Напишите функцию brackets(line), которая определяет, является ли последовательность из круглых скобок правильной.\n",
    "\n",
    "Какая последовательность скобок правильная?\n",
    "Правильной скобочной последовательностью назовём такую последовательность скобок, в которой для каждой открывающей скобки есть последующая соответствующая ей закрывающая скобка.\n",
    "\n",
    "Цветом обозначены соответствующие друг другу скобки: (()())()\n",
    "\n",
    "Соответственно, остальные скобочные последовательности назовём неправильными.\n",
    "\n",
    "Пустую строку будем считать правильной последовательностью.\n",
    "\n",
    "Для решения этой задачи потребуется использовать стек.\n",
    "\n",
    "Посимвольно переберите строку. Если встретилась открывающаяся скобка, положите её в стек. Если встретилась закрывающаяся скобка, извлеките скобку из стека.\n",
    "\n",
    "Если стек пустой, то есть извлечь скобку нельзя, последовательность неправильная.\n",
    "Если строка закончилась и стек стал пустым, последовательность правильная.\n",
    "Если в стеке остались скобки, последовательность неправильная.\n",
    "Пример:\n",
    "\n",
    "print(brackets(\"(()())\"))\n",
    "# True\n",
    "print(brackets(\"\"))\n",
    "# True\n",
    "print(brackets(\"(()()))\"))\n",
    "# False"
   ]
  },
  {
   "cell_type": "code",
   "execution_count": 7,
   "metadata": {},
   "outputs": [
    {
     "name": "stdout",
     "output_type": "stream",
     "text": [
      "True\n",
      "True\n",
      "False\n"
     ]
    }
   ],
   "source": [
    "from collections import deque\n",
    "\n",
    "def brackets(line):\n",
    "    # Напишите тело функции\n",
    "    stack = deque()\n",
    "    for i in line:\n",
    "        if i == \"(\":\n",
    "            stack.append(i)\n",
    "        elif i == \")\":\n",
    "            if len(stack) == 0:\n",
    "                return False\n",
    "            stack.pop()\n",
    "    if len(stack) == 0:\n",
    "        return True\n",
    "    return False\n",
    "\n",
    "print(brackets(\"(()())\"))\n",
    "# True\n",
    "print(brackets(\"\"))\n",
    "# True\n",
    "print(brackets(\"(()()))\"))\n",
    "# False"
   ]
  },
  {
   "cell_type": "markdown",
   "metadata": {},
   "source": [
    "Задание 4.4\n",
    "\n",
    "В переменных center, south и north хранятся списки из перечней купленных позиций в трёх торговых точках, расположенных в разных районах города.\n",
    "Вначале избавьтесь от излишней вложенности: в каждой переменной (center, south, north) должен храниться объединённый список купленных товаров без разбиения по чекам.\n",
    "\n",
    "Пример: [['Milk', 'Bread'], ['Meat']] -> ['Milk', 'Bread', 'Meat']\n",
    "\n",
    "После этого определите, в каком магазине было куплено больше всего товаров."
   ]
  },
  {
   "cell_type": "code",
   "execution_count": 11,
   "metadata": {},
   "outputs": [
    {
     "name": "stdout",
     "output_type": "stream",
     "text": [
      "500\n",
      "478\n",
      "548\n"
     ]
    }
   ],
   "source": [
    "north = [['Milk', 'Milk', 'Beer'], ['Chocolate', 'Bread', 'Chips'], ['Cola', 'Cola', 'Yoghurt', 'Soap', 'Beer', 'Chips', 'Milk'], ['Soap', 'Soap', 'Cola', 'Cola', 'Chips'], ['Milk', 'Beer', 'Meat', 'Ketchup', 'Cola', 'Cola', 'Chips', 'Chips', 'Cola', 'Cola'], ['Beer', 'Bread', 'Bread', 'Beer', 'Beer', 'Beer', 'Bread', 'Cheese'], ['Yoghurt', 'Beer', 'Chips', 'Milk', 'Soap', 'Cola', 'Cola', 'Cola', 'Beer', 'Cola', 'Cola', 'Cola', 'Beer', 'Ketchup', 'Beer', 'Beer', 'Beer', 'Soap'], ['Milk', 'Cola', 'Cola', 'Beer', 'Beer', 'Bread', 'Bread', 'Soap', 'Cola', 'Cola', 'Beer', 'Meat', 'Bread', 'Chips'], ['Beer', 'Beer', 'Beer', 'Chips', 'Milk', 'Cola', 'Chocolate', 'Beer', 'Chocolate', 'Beer', 'Beer', 'Cola', 'Meat', 'Yoghurt', 'Beer'], ['Bread'], ['Chocolate', 'Beer', 'Meat', 'Yoghurt'], ['Cola', 'Beer', 'Beer', 'Beer', 'Chocolate', 'Beer', 'Soap', 'Beer', 'Chips', 'Soap', 'Chocolate', 'Bread', 'Chips', 'Cola', 'Bread', 'Beer', 'Cola', 'Bread'], ['Chips', 'Cola', 'Beer', 'Chips', 'Cola', 'Cola', 'Beer', 'Soap', 'Yoghurt', 'Yoghurt', 'Cola', 'Bread', 'Beer', 'Chocolate', 'Chips', 'Bread', 'Beer', 'Bread'], ['Cola', 'Chocolate'], ['Chocolate', 'Cola', 'Meat', 'Cola', 'Ketchup', 'Cola', 'Chocolate', 'Bread', 'Chocolate', 'Chocolate', 'Meat'], ['Bread', 'Milk', 'Chips', 'Ketchup', 'Cola', 'Cola', 'Cola', 'Beer', 'Beer', 'Soap', 'Beer', 'Cola'], ['Yoghurt', 'Milk', 'Soap', 'Bread', 'Cola', 'Cola', 'Milk', 'Bread', 'Chips', 'Cheese', 'Milk', 'Yoghurt', 'Bread', 'Yoghurt'], ['Cola', 'Ketchup'], ['Cola', 'Yoghurt', 'Bread', 'Cola', 'Cola', 'Chips', 'Yoghurt', 'Milk', 'Beer', 'Chips', 'Bread', 'Beer', 'Beer', 'Cola', 'Bread', 'Beer', 'Beer', 'Cheese'], ['Beer', 'Cheese', 'Ketchup', 'Beer'], ['Beer', 'Beer', 'Beer'], ['Soap', 'Beer', 'Beer', 'Chocolate', 'Cola', 'Chocolate', 'Bread', 'Beer', 'Milk', 'Bread', 'Beer', 'Chocolate', 'Bread', 'Cola', 'Cola', 'Cheese', 'Beer', 'Cola', 'Soap', 'Yoghurt'], ['Beer', 'Chocolate'], ['Cola', 'Beer'], ['Yoghurt', 'Beer', 'Yoghurt', 'Yoghurt', 'Chips', 'Meat', 'Beer', 'Chocolate', 'Cola', 'Cola', 'Chips', 'Bread'], ['Cola', 'Cola', 'Cola', 'Cola', 'Cola', 'Bread', 'Chips', 'Soap', 'Cola', 'Chocolate', 'Beer', 'Beer'], ['Beer', 'Cola', 'Cola', 'Bread', 'Soap', 'Beer', 'Meat', 'Beer', 'Beer', 'Beer', 'Cola', 'Chips', 'Beer', 'Cola', 'Cola', 'Bread', 'Cheese', 'Beer'], ['Cola', 'Cola', 'Ketchup', 'Beer', 'Yoghurt', 'Bread'], ['Chips', 'Yoghurt', 'Cola', 'Cola', 'Cola', 'Chocolate', 'Chips', 'Bread', 'Chocolate', 'Yoghurt', 'Chocolate', 'Milk', 'Bread', 'Bread', 'Soap', 'Milk', 'Soap', 'Cola', 'Bread', 'Beer'], ['Beer', 'Beer', 'Ketchup', 'Cola', 'Beer', 'Bread', 'Beer', 'Cola', 'Beer', 'Chocolate'], ['Beer', 'Chocolate', 'Cola', 'Beer', 'Yoghurt', 'Milk', 'Bread', 'Cheese', 'Yoghurt', 'Beer', 'Cola', 'Yoghurt', 'Cola', 'Soap', 'Beer', 'Bread', 'Meat', 'Bread', 'Cola'], ['Beer', 'Cola', 'Chips', 'Cola'], ['Cola', 'Cola', 'Beer', 'Cheese'], ['Bread', 'Soap', 'Ketchup', 'Chocolate', 'Beer', 'Cola', 'Chocolate', 'Cola', 'Cola', 'Yoghurt', 'Beer', 'Bread', 'Cola', 'Ketchup', 'Beer'], ['Bread'], ['Bread', 'Beer', 'Yoghurt', 'Yoghurt', 'Bread', 'Milk', 'Soap', 'Meat', 'Bread', 'Beer', 'Cola', 'Milk', 'Milk', 'Bread', 'Beer', 'Cola', 'Ketchup', 'Cola'], ['Bread', 'Beer', 'Bread', 'Yoghurt', 'Beer', 'Bread', 'Cola', 'Cola', 'Cola', 'Beer', 'Bread', 'Milk', 'Chips', 'Cola', 'Beer', 'Bread', 'Soap', 'Bread', 'Yoghurt', 'Bread'], ['Yoghurt', 'Beer', 'Cola', 'Beer', 'Beer', 'Beer'], ['Chips', 'Chocolate', 'Soap', 'Chocolate', 'Cola', 'Bread', 'Beer', 'Cola', 'Beer', 'Ketchup', 'Chocolate', 'Ketchup', 'Ketchup', 'Cheese', 'Chips', 'Beer', 'Chips', 'Chocolate'], ['Bread', 'Cola', 'Cola', 'Beer', 'Bread', 'Bread', 'Beer', 'Chocolate', 'Bread', 'Cola', 'Milk', 'Chips', 'Meat', 'Beer', 'Beer', 'Soap', 'Bread'], ['Beer', 'Beer', 'Bread', 'Chips', 'Beer', 'Bread', 'Bread', 'Chips', 'Beer'], ['Yoghurt', 'Bread', 'Cola', 'Bread', 'Cola', 'Bread', 'Meat', 'Cola', 'Bread', 'Beer', 'Soap', 'Chips'], ['Bread', 'Beer'], ['Milk', 'Beer', 'Meat', 'Cola', 'Beer', 'Cola', 'Cola'], ['Beer', 'Chips', 'Yoghurt', 'Beer', 'Cola', 'Beer', 'Cola', 'Cola', 'Soap', 'Cola'], ['Bread', 'Cola', 'Cola', 'Meat'], ['Cola', 'Chocolate', 'Meat', 'Beer', 'Cola', 'Bread', 'Chips', 'Beer', 'Chips', 'Chips', 'Cola'], ['Bread', 'Cola', 'Cola', 'Cola', 'Beer', 'Cola', 'Yoghurt', 'Beer', 'Chips', 'Cola', 'Chocolate', 'Chips', 'Cola', 'Cola', 'Cola', 'Cola', 'Bread', 'Cola'], ['Cola', 'Soap', 'Cola'], ['Soap', 'Chips', 'Cola', 'Beer', 'Bread', 'Soap', 'Cheese', 'Bread', 'Beer', 'Chocolate']]\n",
    "center = [['Meat', 'Beer', 'Soap', 'Beer', 'Cheese', 'Cola', 'Milk', 'Soap', 'Cola', 'Meat', 'Bread', 'Chocolate', 'Chips'], ['Soap', 'Beer', 'Chips', 'Bread', 'Beer', 'Beer', 'Beer', 'Cheese', 'Cheese', 'Beer', 'Chips', 'Chocolate', 'Chips', 'Cheese', 'Bread', 'Cola', 'Cola', 'Beer'], ['Cola', 'Soap', 'Bread', 'Milk', 'Beer', 'Meat', 'Bread', 'Bread'], ['Ketchup', 'Beer', 'Ketchup', 'Chocolate', 'Milk', 'Milk', 'Bread', 'Beer'], ['Beer', 'Beer', 'Meat', 'Ketchup', 'Soap', 'Bread', 'Cola', 'Beer'], ['Meat', 'Bread', 'Milk', 'Cheese', 'Soap', 'Beer', 'Milk', 'Cheese', 'Cola', 'Beer', 'Chips', 'Bread', 'Ketchup', 'Chocolate', 'Bread', 'Milk'], ['Yoghurt'], ['Beer', 'Milk', 'Chips', 'Soap', 'Chips', 'Milk', 'Beer', 'Chips', 'Bread', 'Meat', 'Milk'], ['Yoghurt', 'Beer', 'Cola', 'Cola', 'Beer', 'Soap', 'Cheese', 'Soap', 'Bread', 'Cola', 'Yoghurt', 'Ketchup', 'Beer', 'Milk'], ['Milk', 'Cola', 'Bread', 'Cola', 'Bread', 'Beer', 'Beer', 'Beer'], ['Yoghurt', 'Cola'], ['Bread', 'Yoghurt', 'Chips', 'Ketchup', 'Meat', 'Bread', 'Beer', 'Yoghurt', 'Cola', 'Cola'], ['Chips', 'Chocolate', 'Chips', 'Meat', 'Bread', 'Cheese', 'Bread', 'Yoghurt'], ['Ketchup', 'Soap', 'Chocolate', 'Bread'], ['Chips', 'Beer', 'Chips', 'Cola', 'Cheese', 'Soap', 'Ketchup', 'Meat', 'Cola', 'Chips', 'Beer', 'Chocolate', 'Beer', 'Milk', 'Bread', 'Ketchup', 'Chips', 'Cheese', 'Ketchup'], ['Beer', 'Milk', 'Soap', 'Chips', 'Soap', 'Bread', 'Bread', 'Milk', 'Beer'], ['Cola', 'Chips', 'Meat', 'Cola', 'Beer', 'Chocolate', 'Bread', 'Bread', 'Chips', 'Soap', 'Chocolate', 'Chips', 'Beer'], ['Meat', 'Cola', 'Chips', 'Bread', 'Chips', 'Chocolate', 'Bread', 'Meat', 'Bread', 'Yoghurt', 'Cheese', 'Bread', 'Chips', 'Cola'], ['Chips', 'Cheese', 'Bread', 'Beer', 'Bread', 'Chips', 'Chocolate', 'Bread', 'Cola', 'Cola', 'Chocolate', 'Chocolate', 'Bread', 'Meat', 'Chips'], ['Bread', 'Milk', 'Bread', 'Cheese', 'Bread', 'Cheese', 'Ketchup', 'Beer', 'Cheese', 'Cola', 'Milk', 'Milk', 'Bread', 'Beer', 'Bread', 'Chips'], ['Yoghurt'], ['Bread', 'Bread', 'Chips', 'Cheese', 'Bread', 'Beer', 'Cola', 'Ketchup', 'Bread', 'Chips', 'Chocolate', 'Meat', 'Milk', 'Beer', 'Milk', 'Cheese', 'Bread', 'Meat', 'Bread', 'Cola'], ['Bread', 'Meat', 'Meat', 'Milk', 'Chips', 'Soap', 'Yoghurt', 'Chips', 'Beer', 'Yoghurt'], ['Bread', 'Soap', 'Bread', 'Cola', 'Bread'], ['Cola', 'Bread', 'Meat', 'Cola', 'Meat', 'Chocolate', 'Chips', 'Meat', 'Chips'], ['Chips', 'Cheese', 'Cheese', 'Meat'], ['Chips', 'Meat', 'Soap', 'Cheese', 'Bread', 'Cola', 'Bread', 'Beer', 'Meat', 'Cola', 'Bread', 'Cola', 'Ketchup', 'Bread'], ['Chips', 'Cheese', 'Milk', 'Meat', 'Milk', 'Beer', 'Chocolate', 'Ketchup', 'Cola', 'Cheese', 'Beer'], ['Beer', 'Ketchup', 'Yoghurt', 'Ketchup', 'Chocolate', 'Bread', 'Beer', 'Ketchup', 'Chocolate', 'Cola', 'Chocolate', 'Ketchup', 'Cola', 'Meat', 'Chips', 'Soap', 'Meat'], ['Meat', 'Milk'], ['Cola', 'Beer', 'Yoghurt', 'Beer', 'Bread', 'Cola'], ['Chips', 'Meat', 'Cheese', 'Ketchup', 'Chips', 'Bread', 'Bread', 'Chips', 'Chips', 'Bread', 'Milk', 'Ketchup', 'Cola', 'Cola', 'Beer'], ['Beer', 'Bread', 'Cheese', 'Bread', 'Cola', 'Cheese', 'Cheese', 'Beer', 'Milk', 'Bread', 'Chocolate', 'Cheese', 'Beer', 'Bread', 'Beer', 'Cola', 'Yoghurt', 'Beer', 'Beer', 'Chips'], ['Bread', 'Chips', 'Bread', 'Cola', 'Chips', 'Chocolate', 'Cheese', 'Beer', 'Chips', 'Milk', 'Milk', 'Beer', 'Cola', 'Meat', 'Cola', 'Bread', 'Cola', 'Chocolate', 'Chocolate', 'Cola'], ['Soap', 'Yoghurt', 'Chips', 'Beer', 'Chips', 'Milk', 'Cheese', 'Meat', 'Beer', 'Bread', 'Ketchup', 'Bread', 'Bread', 'Cheese', 'Milk', 'Beer', 'Beer', 'Soap', 'Bread'], ['Cola', 'Bread', 'Cheese', 'Ketchup', 'Beer', 'Chips', 'Meat', 'Chocolate', 'Chips', 'Cola', 'Beer', 'Beer', 'Cola'], ['Ketchup', 'Beer', 'Chocolate', 'Bread', 'Yoghurt', 'Beer', 'Cheese'], ['Bread', 'Chocolate', 'Bread', 'Milk'], ['Meat', 'Yoghurt', 'Bread', 'Yoghurt', 'Cola', 'Ketchup'], ['Ketchup', 'Bread', 'Bread', 'Chocolate', 'Chocolate', 'Chocolate', 'Bread', 'Bread', 'Beer', 'Chocolate', 'Bread', 'Milk'], ['Bread', 'Cheese', 'Soap', 'Soap', 'Chips', 'Chips'], ['Ketchup', 'Chocolate', 'Chips', 'Milk', 'Soap', 'Soap', 'Ketchup', 'Bread', 'Ketchup', 'Cola', 'Cheese', 'Beer', 'Ketchup', 'Bread'], ['Bread', 'Milk', 'Beer', 'Yoghurt', 'Meat', 'Ketchup', 'Meat', 'Meat', 'Bread', 'Milk', 'Cheese', 'Beer', 'Yoghurt', 'Milk', 'Bread', 'Cola'], ['Chips', 'Cola', 'Milk', 'Chocolate', 'Beer', 'Beer', 'Chips', 'Bread', 'Beer', 'Beer', 'Bread', 'Beer', 'Ketchup', 'Milk', 'Yoghurt', 'Ketchup', 'Cola', 'Ketchup', 'Chips', 'Meat'], ['Beer', 'Bread', 'Soap', 'Cheese', 'Meat', 'Soap'], ['Beer', 'Meat', 'Beer', 'Yoghurt', 'Soap', 'Chips', 'Meat', 'Cheese', 'Milk', 'Bread', 'Meat', 'Beer', 'Milk'], ['Chips', 'Meat', 'Bread'], ['Chocolate', 'Soap', 'Bread', 'Chips', 'Chips', 'Yoghurt', 'Chips', 'Cola', 'Cola', 'Cola', 'Beer', 'Milk', 'Milk', 'Bread', 'Bread', 'Meat'], ['Meat', 'Chocolate', 'Chips', 'Chips', 'Yoghurt', 'Yoghurt', 'Beer', 'Cola', 'Cheese', 'Milk', 'Beer'], ['Meat', 'Chocolate', 'Yoghurt', 'Cola', 'Cheese', 'Meat', 'Bread', 'Beer', 'Meat', 'Beer', 'Yoghurt', 'Cola', 'Bread']]\n",
    "south = [['Cola', 'Meat', 'Cheese', 'Yoghurt', 'Beer', 'Milk', 'Milk', 'Meat', 'Cola', 'Cola', 'Cheese', 'Beer', 'Yoghurt', 'Beer', 'Bread', 'Bread', 'Milk', 'Cheese', 'Chocolate'], ['Soap', 'Milk', 'Cola'], ['Milk', 'Bread', 'Yoghurt', 'Meat', 'Meat'], ['Bread', 'Milk', 'Beer'], ['Beer'], ['Chocolate', 'Meat', 'Chocolate', 'Cola', 'Cola', 'Cola', 'Cola', 'Yoghurt', 'Bread', 'Meat', 'Soap', 'Soap', 'Milk', 'Milk', 'Cola'], ['Beer', 'Beer', 'Meat', 'Chips', 'Bread', 'Bread', 'Bread', 'Bread', 'Milk', 'Cola', 'Chocolate', 'Bread', 'Beer', 'Chips', 'Bread', 'Bread', 'Yoghurt'], ['Chips', 'Milk', 'Soap'], ['Meat', 'Beer', 'Milk', 'Chocolate', 'Bread', 'Yoghurt'], ['Chips', 'Meat', 'Chocolate', 'Bread', 'Cola', 'Cola', 'Chocolate', 'Meat', 'Yoghurt', 'Milk'], ['Bread', 'Soap', 'Bread', 'Meat', 'Beer', 'Yoghurt', 'Milk', 'Cola', 'Bread', 'Ketchup'], ['Meat', 'Milk'], ['Meat', 'Beer', 'Yoghurt'], ['Cola', 'Bread', 'Cola', 'Chocolate', 'Chips', 'Meat', 'Cheese'], ['Milk', 'Milk', 'Cheese', 'Meat'], ['Chips', 'Yoghurt', 'Cheese', 'Soap', 'Ketchup', 'Cheese', 'Soap', 'Beer', 'Ketchup', 'Ketchup', 'Milk', 'Bread', 'Bread', 'Beer'], ['Meat'], ['Ketchup', 'Bread', 'Beer', 'Milk', 'Bread', 'Meat', 'Ketchup', 'Cheese'], ['Meat', 'Chips', 'Bread', 'Meat', 'Milk', 'Soap', 'Chocolate', 'Meat', 'Chocolate', 'Chocolate', 'Bread', 'Cheese', 'Soap', 'Cola', 'Yoghurt'], ['Cheese', 'Milk', 'Bread', 'Milk', 'Chips', 'Chips', 'Meat', 'Beer', 'Chocolate', 'Chocolate'], ['Ketchup', 'Beer', 'Cheese', 'Cola'], ['Chocolate', 'Cheese', 'Bread'], ['Milk', 'Yoghurt', 'Ketchup', 'Beer', 'Meat', 'Chips', 'Yoghurt', 'Meat', 'Bread', 'Chips'], ['Yoghurt', 'Milk', 'Ketchup', 'Yoghurt', 'Beer', 'Cheese', 'Bread', 'Bread', 'Ketchup', 'Bread', 'Bread', 'Yoghurt', 'Meat'], ['Soap', 'Meat', 'Bread', 'Beer', 'Milk'], ['Beer', 'Cola', 'Beer', 'Meat', 'Meat', 'Cheese', 'Meat', 'Chocolate', 'Bread', 'Ketchup', 'Milk', 'Soap'], ['Cheese', 'Chocolate', 'Milk', 'Chocolate', 'Cola', 'Bread', 'Chips', 'Cheese', 'Soap', 'Ketchup', 'Cheese', 'Chips', 'Cheese', 'Cola', 'Chocolate', 'Beer'], ['Bread', 'Bread', 'Cola', 'Ketchup', 'Cola', 'Bread', 'Meat', 'Yoghurt', 'Milk', 'Beer', 'Beer', 'Cheese', 'Meat', 'Bread', 'Cheese', 'Meat', 'Chocolate'], ['Chocolate', 'Soap', 'Chips', 'Beer', 'Bread', 'Yoghurt', 'Chips', 'Chocolate', 'Beer', 'Cheese', 'Cola', 'Milk', 'Chips', 'Milk', 'Ketchup', 'Cola', 'Meat', 'Beer', 'Cheese', 'Yoghurt'], ['Soap'], ['Meat', 'Beer', 'Milk', 'Bread', 'Beer', 'Cheese', 'Chocolate', 'Beer', 'Beer', 'Milk', 'Beer', 'Bread', 'Meat', 'Beer', 'Chocolate', 'Beer', 'Soap', 'Chips', 'Cola'], ['Cola', 'Beer', 'Meat', 'Chips', 'Soap', 'Cola', 'Bread', 'Cola', 'Bread', 'Chips', 'Ketchup', 'Ketchup', 'Beer', 'Ketchup', 'Cola', 'Milk', 'Cheese'], ['Cheese', 'Milk', 'Chips', 'Bread', 'Yoghurt', 'Soap', 'Beer', 'Chips', 'Ketchup', 'Chips', 'Beer', 'Yoghurt', 'Cola', 'Cheese', 'Chocolate', 'Beer'], ['Meat', 'Bread', 'Meat', 'Bread'], ['Cola', 'Beer', 'Yoghurt'], ['Beer', 'Bread', 'Beer', 'Meat', 'Bread', 'Milk', 'Soap', 'Milk', 'Chocolate', 'Meat', 'Meat', 'Meat', 'Chips', 'Chocolate', 'Meat'], ['Beer', 'Cola', 'Chocolate', 'Bread', 'Cheese', 'Cheese'], ['Milk', 'Chips', 'Cola', 'Milk', 'Bread', 'Bread', 'Beer', 'Milk', 'Cola', 'Chocolate', 'Chocolate', 'Meat', 'Cola', 'Cola', 'Beer', 'Cola', 'Chocolate', 'Bread', 'Bread', 'Cola'], ['Chocolate', 'Chocolate', 'Beer', 'Beer', 'Bread', 'Yoghurt', 'Meat', 'Cola', 'Yoghurt'], ['Ketchup', 'Cola', 'Ketchup', 'Yoghurt', 'Chips', 'Soap', 'Soap', 'Chocolate', 'Chocolate', 'Bread', 'Beer', 'Meat'], ['Bread', 'Meat', 'Soap', 'Cola', 'Bread', 'Cola', 'Yoghurt', 'Meat', 'Bread', 'Cola', 'Cola', 'Ketchup', 'Beer', 'Bread', 'Milk', 'Yoghurt', 'Meat'], ['Chocolate', 'Yoghurt', 'Bread'], ['Meat', 'Bread', 'Bread', 'Bread'], ['Beer', 'Milk', 'Cola', 'Ketchup', 'Cola', 'Cheese', 'Meat', 'Chocolate'], ['Soap', 'Beer', 'Chocolate', 'Chocolate', 'Cola', 'Cola', 'Yoghurt', 'Ketchup', 'Milk'], ['Meat', 'Yoghurt', 'Bread', 'Ketchup', 'Ketchup', 'Milk', 'Meat'], ['Ketchup', 'Soap', 'Chips', 'Ketchup', 'Bread', 'Chocolate', 'Milk', 'Bread', 'Bread', 'Ketchup', 'Cola', 'Meat', 'Milk', 'Bread', 'Cola'], ['Meat', 'Beer', 'Yoghurt', 'Chips', 'Beer', 'Meat', 'Cola', 'Beer', 'Meat', 'Ketchup', 'Milk', 'Cola', 'Yoghurt', 'Beer', 'Meat', 'Bread', 'Bread'], ['Meat', 'Soap', 'Cheese', 'Ketchup', 'Cola', 'Cola', 'Bread', 'Chips', 'Meat', 'Cola', 'Bread', 'Beer', 'Beer', 'Beer'], ['Meat', 'Yoghurt', 'Bread', 'Milk', 'Beer', 'Beer']]\n",
    "\n",
    "north_list = [elem for bill in north for elem in bill]\n",
    "south_list = [elem for bill in south for elem in bill]\n",
    "center_list = [elem for bill in center for elem in bill]\n",
    "\n",
    "print(len(north_list))\n",
    "# 500\n",
    "print(len(south_list))\n",
    "# 478\n",
    "print(len(center_list))\n",
    "# 548"
   ]
  },
  {
   "cell_type": "markdown",
   "metadata": {},
   "source": [
    "Задание 4.5\n",
    "\n",
    "Теперь получите объекты-счётчики (Counter) из каждого полученного в предыдущем задании списка покупок и сохраните их в отдельные переменные (они пригодятся для выполнения следующих задач).\n",
    "Сколько раз покупали самый редкий товар в магазине north? Запишите ответ в числовой форме."
   ]
  },
  {
   "cell_type": "code",
   "execution_count": 13,
   "metadata": {},
   "outputs": [
    {
     "name": "stdout",
     "output_type": "stream",
     "text": [
      "('Cheese', 10)\n"
     ]
    }
   ],
   "source": [
    "from collections import Counter\n",
    "north_list = [elem for bill in north for elem in bill]\n",
    "south_list = [elem for bill in south for elem in bill]\n",
    "center_list = [elem for bill in center for elem in bill]\n",
    " \n",
    "c = Counter(center_list)\n",
    "s = Counter(south_list)\n",
    "n = Counter(north_list)\n",
    " \n",
    "print(n.most_common()[-1])\n",
    "# ('Cheese', 10)"
   ]
  },
  {
   "cell_type": "markdown",
   "metadata": {},
   "source": [
    "Задание 4.6\n",
    "\n",
    "Выберите товар, который в магазине center покупали чаще, чем в магазине north:"
   ]
  },
  {
   "cell_type": "code",
   "execution_count": 14,
   "metadata": {},
   "outputs": [
    {
     "name": "stdout",
     "output_type": "stream",
     "text": [
      "Counter({'Meat': 31, 'Cheese': 29, 'Bread': 23, 'Chips': 22, 'Milk': 21, 'Ketchup': 19, 'Chocolate': 2})\n"
     ]
    }
   ],
   "source": [
    "from collections import Counter\n",
    "north_list = [elem for bill in north for elem in bill]\n",
    "south_list = [elem for bill in south for elem in bill]\n",
    "center_list = [elem for bill in center for elem in bill]\n",
    "c = Counter(center_list)\n",
    "s = Counter(south_list)\n",
    "n = Counter(north_list)\n",
    "print(c - n)\n",
    "# Counter({'Meat': 31, 'Cheese': 29, 'Bread': 23,\n",
    "# 'Chips': 22, 'Milk': 21, 'Ketchup': 19, 'Chocolate': 2})"
   ]
  },
  {
   "cell_type": "markdown",
   "metadata": {},
   "source": [
    "Задание 4.7\n",
    "\n",
    "Есть ли такой товар, который в одном из магазинов покупали чаще, чем в двух других вместе взятых? Если да, выберите магазин с настолько популярным товаром:"
   ]
  },
  {
   "cell_type": "code",
   "execution_count": 15,
   "metadata": {},
   "outputs": [
    {
     "name": "stdout",
     "output_type": "stream",
     "text": [
      "Counter()\n",
      "Counter({'Cola': 6})\n",
      "Counter()\n"
     ]
    }
   ],
   "source": [
    "from collections import Counter\n",
    "north_list = [elem for bill in north for elem in bill]\n",
    "south_list = [elem for bill in south for elem in bill]\n",
    "center_list = [elem for bill in center for elem in bill]\n",
    "c = Counter(center_list)\n",
    "s = Counter(south_list)\n",
    "n = Counter(north_list)\n",
    "print(c - (n + s))\n",
    "# Counter()\n",
    "print(n - (s + c))\n",
    "# Counter({'Cola': 6})\n",
    "print(s - (c + n))\n",
    "# Counter()"
   ]
  },
  {
   "cell_type": "markdown",
   "metadata": {},
   "source": [
    "Задание 4.8\n",
    "\n",
    "Определите суммарное число продаж каждого товара во всех магазинах, сложив все объекты-счётчики. Сколько раз был куплен второй по популярности товар? Запишите ответ в числовой форме."
   ]
  },
  {
   "cell_type": "code",
   "execution_count": 21,
   "metadata": {},
   "outputs": [
    {
     "name": "stdout",
     "output_type": "stream",
     "text": [
      "('Bread', 240)\n"
     ]
    }
   ],
   "source": [
    "from collections import Counter\n",
    "north_list = [elem for bill in north for elem in bill]\n",
    "south_list = [elem for bill in south for elem in bill]\n",
    "center_list = [elem for bill in center for elem in bill]\n",
    "c = Counter(center_list)\n",
    "s = Counter(south_list)\n",
    "n = Counter(north_list)\n",
    "\n",
    "print((c+s+n).most_common()[1])"
   ]
  },
  {
   "cell_type": "markdown",
   "metadata": {},
   "source": [
    "ЗАДАНИЕ 4.9 (ВЫПОЛНЯЕТСЯ В CODEBOARD НИЖЕ)\n",
    "\n",
    "\n",
    "Дан список кортежей ratings с рейтингами кафе. Кортеж состоит из названия и рейтинга кафе.\n",
    "\n",
    "Необходимо отсортировать список кортежей по убыванию рейтинга. Если рейтинги совпадают, то отсортировать кафе дополнительно по названию в алфавитном порядке.\n",
    "\n",
    "Получите словарь cafes с упорядоченными ключами из отсортированного списка, где ключи — названия кафе, а значения — их рейтинг."
   ]
  },
  {
   "cell_type": "code",
   "execution_count": 25,
   "metadata": {},
   "outputs": [
    {
     "name": "stdout",
     "output_type": "stream",
     "text": [
      "OrderedDict([('WokAndRice', 4.9), ('WokToWork', 4.9), ('General Foods', 4.8), ('New Age', 4.6), ('Belissimo', 4.5), ('CakeAndCoffee', 4.2), ('CakeOClock', 4.2), ('CakeTime', 4.1), ('Nice Cakes', 3.9), ('Old Gold', 3.3), ('Old Wine Cellar', 3.3), ('Old York', 3.3)])\n"
     ]
    }
   ],
   "source": [
    "ratings = [('Old York', 3.3), ('New Age', 4.6), ('Old Gold', 3.3), ('General Foods', 4.8),\n",
    "           ('Belissimo', 4.5), ('CakeAndCoffee', 4.2), ('CakeOClock', 4.2), ('CakeTime', 4.1),\n",
    "           ('WokToWork', 4.9), ('WokAndRice', 4.9), ('Old Wine Cellar', 3.3), ('Nice Cakes', 3.9)]\n",
    "         \n",
    "# Отсортируйте список ratings по убыванию рейтинга. Для кафе\n",
    "# с одинаковым рейтингом отсортируйте кортежи по названию.\n",
    "ratings.sort(key=lambda x: (-x[1], x[0]))\n",
    "# Сохраните данные с рейтингом в словарь cafes, где ключами являются\n",
    "# названия кафе, а значениями - их рейтинг.\n",
    "from collections import OrderedDict\n",
    "cafes = OrderedDict(ratings)\n",
    "\n",
    "print(cafes)"
   ]
  },
  {
   "cell_type": "markdown",
   "metadata": {},
   "source": [
    "ЗАДАНИЕ 4.10 (ВЫПОЛНЯЕТСЯ В CODEBOARD НИЖЕ)\n",
    "\n",
    "Напишите функцию task_manager, которая принимает список задач для нескольких серверов. Каждый элемент списка состоит из кортежа (<номер задачи>, <название сервера>, <высокий приоритет задачи>).\n",
    "\n",
    "Функция должна создавать словарь и заполнять его задачами по следующему принципу: название сервера — ключ, по которому хранится очередь задач для конкретного сервера. Если поступает задача без высокого приоритета (последний элемент кортежа — False), добавить номер задачи в конец очереди. Если приоритет высокий, добавить номер в начало.\n",
    "\n",
    "Для словаря используйте defaultdict, для очереди — deque.\n",
    "\n",
    "Функция возвращает полученный словарь с задачами."
   ]
  },
  {
   "cell_type": "code",
   "execution_count": 26,
   "metadata": {},
   "outputs": [
    {
     "name": "stdout",
     "output_type": "stream",
     "text": [
      "defaultdict(<class 'collections.deque'>, {'office': deque([36871, 40690, 33850]), 'voltage': deque([41667, 35364])})\n"
     ]
    }
   ],
   "source": [
    "from collections import deque, defaultdict\n",
    "\n",
    "def task_manager(tasks):\n",
    "    servers = defaultdict(deque)\n",
    "    for task in tasks:\n",
    "        if task[-1]:\n",
    "            servers[task[1]].appendleft(task[0])\n",
    "        else:\n",
    "            servers[task[1]].append(task[0])\n",
    "    return servers\n",
    "\n",
    "tasks = [(36871, 'office', False),\n",
    "(40690, 'office', False),\n",
    "(35364, 'voltage', False),\n",
    "(41667, 'voltage', True),\n",
    "(33850, 'office', False)]\n",
    " \n",
    "print(task_manager(tasks))"
   ]
  },
  {
   "cell_type": "code",
   "execution_count": null,
   "metadata": {},
   "outputs": [],
   "source": []
  }
 ],
 "metadata": {
  "interpreter": {
   "hash": "67f364d0dc945d7b39938d1b4ff99244195cdc7cb39e029852517a46d2b3a961"
  },
  "kernelspec": {
   "display_name": "Python 3.10.4 64-bit",
   "language": "python",
   "name": "python3"
  },
  "language_info": {
   "codemirror_mode": {
    "name": "ipython",
    "version": 3
   },
   "file_extension": ".py",
   "mimetype": "text/x-python",
   "name": "python",
   "nbconvert_exporter": "python",
   "pygments_lexer": "ipython3",
   "version": "3.10.4"
  },
  "orig_nbformat": 4
 },
 "nbformat": 4,
 "nbformat_minor": 2
}
