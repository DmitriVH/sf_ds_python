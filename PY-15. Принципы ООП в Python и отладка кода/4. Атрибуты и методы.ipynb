{
 "cells": [
  {
   "cell_type": "code",
   "execution_count": 2,
   "metadata": {},
   "outputs": [],
   "source": [
    "# По-прежнему пока создаём пустой класс\n",
    "class SalesReport():\n",
    "    pass"
   ]
  },
  {
   "cell_type": "code",
   "execution_count": 3,
   "metadata": {},
   "outputs": [],
   "source": [
    "# Создаём первый отчёт по продажам\n",
    "report = SalesReport()"
   ]
  },
  {
   "cell_type": "code",
   "execution_count": 4,
   "metadata": {},
   "outputs": [],
   "source": [
    "# Мы добавим новый атрибут объекту.\n",
    "# Для этого через точку напишем имя атрибута и дальше как с обычной переменной\n",
    "report.amount = 10"
   ]
  },
  {
   "cell_type": "code",
   "execution_count": 5,
   "metadata": {},
   "outputs": [],
   "source": [
    "# То же самое делаем для второго отчёта.\n",
    "report_2 = SalesReport()\n",
    "report_2.amount = 20"
   ]
  },
  {
   "cell_type": "code",
   "execution_count": 6,
   "metadata": {},
   "outputs": [],
   "source": [
    "# Создадим вспомогательную функцию, она будет печатать общую сумму из отчёта\n",
    "def print_report(report):\n",
    "    print(\"Total amount:\", report.amount)"
   ]
  },
  {
   "cell_type": "code",
   "execution_count": 7,
   "metadata": {},
   "outputs": [
    {
     "name": "stdout",
     "output_type": "stream",
     "text": [
      "Total amount: 10\n",
      "Total amount: 20\n"
     ]
    }
   ],
   "source": [
    "print_report(report) # => Total amount: 10\n",
    "print_report(report_2) # => Total amount: 20"
   ]
  },
  {
   "cell_type": "code",
   "execution_count": 8,
   "metadata": {},
   "outputs": [],
   "source": [
    "class SalesReport():\n",
    "# Наш новый метод внутри класса.\n",
    "# Мы определяем его похожим образом с обычными функциями,\n",
    "# но только помещаем внутрь класса и первым аргументом передаём self\n",
    "    def print_report(self):\n",
    "        print(\"Total amount:\", self.amount)"
   ]
  },
  {
   "cell_type": "code",
   "execution_count": 9,
   "metadata": {},
   "outputs": [],
   "source": [
    "# Дальше мы применяем report так же, как и в примере выше\n",
    "report = SalesReport()\n",
    "report.amount = 10"
   ]
  },
  {
   "cell_type": "code",
   "execution_count": 10,
   "metadata": {},
   "outputs": [],
   "source": [
    "report_2 = SalesReport()\n",
    "report_2.amount = 20"
   ]
  },
  {
   "cell_type": "code",
   "execution_count": 11,
   "metadata": {},
   "outputs": [
    {
     "name": "stdout",
     "output_type": "stream",
     "text": [
      "Total amount: 10\n",
      "Total amount: 20\n"
     ]
    }
   ],
   "source": [
    "# Используем наши новые методы\n",
    "report.print_report() # => Total amount: 10\n",
    "report_2.print_report() # => Total amount: 20"
   ]
  },
  {
   "cell_type": "code",
   "execution_count": 12,
   "metadata": {},
   "outputs": [],
   "source": [
    "class SalesReport():\n",
    "# Позволим добавлять много разных сделок\n",
    "    def add_deal(self, amount):\n",
    "# На первой сделке создадим список для хранения всех сделок\n",
    "        if not hasattr(self, 'deals'):\n",
    "            self.deals = []\n",
    "# Добавим текущую сделку\n",
    "        self.deals.append(amount)\n",
    "\n",
    "    # Посчитаем сумму всех сделок\n",
    "    def total_amount(self):\n",
    "        return sum(self.deals)\n",
    "    def print_report(self):\n",
    "        print(\"Total sales:\", self.total_amount())"
   ]
  },
  {
   "cell_type": "code",
   "execution_count": 13,
   "metadata": {},
   "outputs": [
    {
     "name": "stdout",
     "output_type": "stream",
     "text": [
      "Total sales: 40000\n"
     ]
    }
   ],
   "source": [
    "# Используем наши новые возможности\n",
    "# Добавим две сделки и распечатаем отчёт\n",
    "report = SalesReport()\n",
    "report.add_deal(10_000)\n",
    "report.add_deal(30_000)\n",
    "report.print_report() # => Total sales: 40000"
   ]
  },
  {
   "cell_type": "markdown",
   "metadata": {},
   "source": [
    "Задание 4.1\n",
    "\n",
    "Допишите определение класса DepartmentReport , который выводит отчёт по отделам компании. У него\n",
    "должны быть определены:\n",
    "\n",
    "атрибут revenues — список, где мы храним значения выручки отделов;\n",
    "\n",
    "метод add_revenue, который добавляет выручку одного отдела;\n",
    "\n",
    "метод average_revenue, который возвращает среднюю выручку по всем отделам.\n",
    "\n",
    "class DepartmentReport():\n",
    "    def add_revenue(self, amount):\n",
    "    \"\"\"\n",
    "    Метод для добавления выручки отдела в список revenues.\n",
    "    Если атрибута revenues ещё не существует, метод должен создавать пустой список перед добавлением\n",
    "выручки.\n",
    "    \"\"\"\n",
    "    ваш код\n",
    "\n",
    "def average_revenue(self):\n",
    "    \"\"\"\n",
    "    Метод возвращает среднюю выручку по отделам.\n",
    "    \"\"\"\n",
    "    \n",
    "    return ваш код\n",
    "\n",
    "В случае правильного описания класса код, приведённый ниже, должен выдать следующий результат:\n",
    "\n",
    "report = DepartmentReport()\n",
    "\n",
    "report.add_revenue(1_000_000)\n",
    "\n",
    "report.add_revenue(400_000)\n",
    "\n",
    "print(report.revenues)\n",
    "\n",
    "=> [1000000, 400000]\n",
    "\n",
    "print(report.average_revenue())\n",
    "\n",
    " => 700000.0"
   ]
  },
  {
   "cell_type": "code",
   "execution_count": 14,
   "metadata": {},
   "outputs": [],
   "source": [
    "class DepartmentReport():\n",
    "    def add_revenue(self, amount):\n",
    "        if not hasattr(self,'revenues'):\n",
    "            self.revenues=[]\n",
    "        self.revenues.append(amount)\n",
    "    def average_revenue(self):\n",
    "        return sum(self.revenues)/len(self.revenues)"
   ]
  },
  {
   "cell_type": "code",
   "execution_count": 15,
   "metadata": {},
   "outputs": [
    {
     "ename": "AttributeError",
     "evalue": "'SalesReport' object has no attribute 'deals'",
     "output_type": "error",
     "traceback": [
      "\u001b[1;31m---------------------------------------------------------------------------\u001b[0m",
      "\u001b[1;31mAttributeError\u001b[0m                            Traceback (most recent call last)",
      "\u001b[1;32md:\\IDE\\PY-15. Принципы ООП в Python и отладка кода\\4. Атрибуты и методы.ipynb Cell 15'\u001b[0m in \u001b[0;36m<cell line: 11>\u001b[1;34m()\u001b[0m\n\u001b[0;32m      <a href='vscode-notebook-cell:/d%3A/IDE/PY-15.%20%D0%9F%D1%80%D0%B8%D0%BD%D1%86%D0%B8%D0%BF%D1%8B%20%D0%9E%D0%9E%D0%9F%20%D0%B2%20Python%20%D0%B8%20%D0%BE%D1%82%D0%BB%D0%B0%D0%B4%D0%BA%D0%B0%20%D0%BA%D0%BE%D0%B4%D0%B0/4.%20%D0%90%D1%82%D1%80%D0%B8%D0%B1%D1%83%D1%82%D1%8B%20%D0%B8%20%D0%BC%D0%B5%D1%82%D0%BE%D0%B4%D1%8B.ipynb#ch0000014?line=8'>9</a>\u001b[0m         \u001b[39mprint\u001b[39m(\u001b[39m\"\u001b[39m\u001b[39mTotal sales:\u001b[39m\u001b[39m\"\u001b[39m, \u001b[39mself\u001b[39m\u001b[39m.\u001b[39mtotal_amount())\n\u001b[0;32m     <a href='vscode-notebook-cell:/d%3A/IDE/PY-15.%20%D0%9F%D1%80%D0%B8%D0%BD%D1%86%D0%B8%D0%BF%D1%8B%20%D0%9E%D0%9E%D0%9F%20%D0%B2%20Python%20%D0%B8%20%D0%BE%D1%82%D0%BB%D0%B0%D0%B4%D0%BA%D0%B0%20%D0%BA%D0%BE%D0%B4%D0%B0/4.%20%D0%90%D1%82%D1%80%D0%B8%D0%B1%D1%83%D1%82%D1%8B%20%D0%B8%20%D0%BC%D0%B5%D1%82%D0%BE%D0%B4%D1%8B.ipynb#ch0000014?line=9'>10</a>\u001b[0m report \u001b[39m=\u001b[39m SalesReport()\n\u001b[1;32m---> <a href='vscode-notebook-cell:/d%3A/IDE/PY-15.%20%D0%9F%D1%80%D0%B8%D0%BD%D1%86%D0%B8%D0%BF%D1%8B%20%D0%9E%D0%9E%D0%9F%20%D0%B2%20Python%20%D0%B8%20%D0%BE%D1%82%D0%BB%D0%B0%D0%B4%D0%BA%D0%B0%20%D0%BA%D0%BE%D0%B4%D0%B0/4.%20%D0%90%D1%82%D1%80%D0%B8%D0%B1%D1%83%D1%82%D1%8B%20%D0%B8%20%D0%BC%D0%B5%D1%82%D0%BE%D0%B4%D1%8B.ipynb#ch0000014?line=10'>11</a>\u001b[0m report\u001b[39m.\u001b[39;49mtotal_amount()\n",
      "\u001b[1;32md:\\IDE\\PY-15. Принципы ООП в Python и отладка кода\\4. Атрибуты и методы.ipynb Cell 15'\u001b[0m in \u001b[0;36mSalesReport.total_amount\u001b[1;34m(self)\u001b[0m\n\u001b[0;32m      <a href='vscode-notebook-cell:/d%3A/IDE/PY-15.%20%D0%9F%D1%80%D0%B8%D0%BD%D1%86%D0%B8%D0%BF%D1%8B%20%D0%9E%D0%9E%D0%9F%20%D0%B2%20Python%20%D0%B8%20%D0%BE%D1%82%D0%BB%D0%B0%D0%B4%D0%BA%D0%B0%20%D0%BA%D0%BE%D0%B4%D0%B0/4.%20%D0%90%D1%82%D1%80%D0%B8%D0%B1%D1%83%D1%82%D1%8B%20%D0%B8%20%D0%BC%D0%B5%D1%82%D0%BE%D0%B4%D1%8B.ipynb#ch0000014?line=5'>6</a>\u001b[0m \u001b[39mdef\u001b[39;00m \u001b[39mtotal_amount\u001b[39m(\u001b[39mself\u001b[39m):\n\u001b[1;32m----> <a href='vscode-notebook-cell:/d%3A/IDE/PY-15.%20%D0%9F%D1%80%D0%B8%D0%BD%D1%86%D0%B8%D0%BF%D1%8B%20%D0%9E%D0%9E%D0%9F%20%D0%B2%20Python%20%D0%B8%20%D0%BE%D1%82%D0%BB%D0%B0%D0%B4%D0%BA%D0%B0%20%D0%BA%D0%BE%D0%B4%D0%B0/4.%20%D0%90%D1%82%D1%80%D0%B8%D0%B1%D1%83%D1%82%D1%8B%20%D0%B8%20%D0%BC%D0%B5%D1%82%D0%BE%D0%B4%D1%8B.ipynb#ch0000014?line=6'>7</a>\u001b[0m     \u001b[39mreturn\u001b[39;00m \u001b[39msum\u001b[39m(\u001b[39mself\u001b[39;49m\u001b[39m.\u001b[39;49mdeals)\n",
      "\u001b[1;31mAttributeError\u001b[0m: 'SalesReport' object has no attribute 'deals'"
     ]
    }
   ],
   "source": [
    "class SalesReport():\n",
    "    def add_deal(self, amount):\n",
    "        if not hasattr(self, 'deals'):\n",
    "            self.deals = []\n",
    "        self.deals.append(amount)\n",
    "    def total_amount(self):\n",
    "        return sum(self.deals)\n",
    "    def print_report(self):\n",
    "        print(\"Total sales:\", self.total_amount())\n",
    "report = SalesReport()\n",
    "report.total_amount()\n",
    "# => AttributeError"
   ]
  },
  {
   "cell_type": "code",
   "execution_count": null,
   "metadata": {},
   "outputs": [
    {
     "name": "stdout",
     "output_type": "stream",
     "text": [
      "[]\n"
     ]
    },
    {
     "data": {
      "text/plain": [
       "0"
      ]
     },
     "execution_count": 16,
     "metadata": {},
     "output_type": "execute_result"
    }
   ],
   "source": [
    "class SalesReport():\n",
    "    def __init__(self):\n",
    "        self.deals = []\n",
    "    def add_deal(self, amount):\n",
    "        self.deals.append(amount)\n",
    "    def total_amount(self):\n",
    "        return sum(self.deals)\n",
    "    def print_report(self):\n",
    "        print(\"Total sales:\", self.total_amount())\n",
    "report = SalesReport()\n",
    "print(report.deals)\n",
    "# => []\n",
    "report.total_amount()\n",
    "# => 0"
   ]
  },
  {
   "cell_type": "markdown",
   "metadata": {},
   "source": [
    "Задание 4.2\n",
    "\n",
    "Улучшите класс DepartmentReport . Класс при инициализации должен принимать переменную company и\n",
    "инициализировать её значением атрибут company , а также инициализировать атрибут revenues\n",
    "пустым списком.\n",
    "\n",
    "Метод average_revenue должен возвращать строку \"Average department revenue for (company_name):\n",
    "(average_revenue)\".\n",
    "\n",
    "class DepartmentReport():\n",
    "def __init__(self,company):\n",
    "\"\"\"\n",
    "Метод инициализации класса.\n",
    "Создаёт атрибуты revenues и company\n",
    "\"\"\"\n",
    "#ваш код\n",
    "def add_revenue(self, amount):\n",
    "\"\"\"\n",
    "Метод для добавления выручки отдела в список revenues.\n",
    "Если атрибута revenues ещё не существует, метод должен создавать пустой список перед добавлением\n",
    "выручки.\n",
    "\"\"\"\n",
    "#ваш код\n",
    "def average_revenue(self):\n",
    "\"\"\"\n",
    "Вычисляет average_revenue — среднюю выручку по отделам — округляя до целого.\n",
    "Метод возвращает строку в формате:\n",
    "'Average department revenue for <company>: <average_revenue>'\n",
    "\"\"\"\n",
    "average= #ваш код\n",
    "return #ваш код\n",
    "\n",
    "В случае правильного описания класса код, приведённый ниже, должен выдать следующий результат:\n",
    "report = DepartmentReport(\"Danon\")\n",
    "report.add_revenue(1_000_000)\n",
    "report.add_revenue(400_000)\n",
    "print(report.average_revenue())\n",
    "# => Average department revenue for Danon: 700000\n",
    "\n",
    "Подсказка: числовое значение округлите до целого библиотечной функцией round."
   ]
  },
  {
   "cell_type": "code",
   "execution_count": null,
   "metadata": {},
   "outputs": [],
   "source": [
    "class DepartmentReport():\n",
    "    def __init__(self,company):\n",
    "        self.revenues=[]\n",
    "        self.company=company\n",
    "    def add_revenue(self, amount):\n",
    "        if not hasattr(self,'revenues'):\n",
    "            self.revenues=[]\n",
    "        self.revenues.append(amount)\n",
    "    def average_revenue(self):\n",
    "        average=round(sum(self.revenues)/len(self.revenues))\n",
    "        return 'Average department revenue for {}: {}'.format(self.company,average)"
   ]
  },
  {
   "cell_type": "code",
   "execution_count": null,
   "metadata": {},
   "outputs": [
    {
     "name": "stdout",
     "output_type": "stream",
     "text": [
      "Employee:  Ivan Semenov\n",
      "Total sales: 390000\n",
      "Average sales: 130000.0\n",
      "Companies: ['SkyEng', 'PepsiCo']\n"
     ]
    }
   ],
   "source": [
    "class SalesReport():\n",
    "    def __init__(self, employee_name):\n",
    "        self.deals = []\n",
    "        self.employee_name = employee_name\n",
    "    def add_deal(self, company, amount):\n",
    "        self.deals.append({'company': company, 'amount': amount})\n",
    "    def total_amount(self):\n",
    "        return sum([deal['amount'] for deal in self.deals])\n",
    "    def average_deal(self):\n",
    "        return self.total_amount()/len(self.deals)\n",
    "    def all_companies(self):\n",
    "        return list(set([deal['company'] for deal in self.deals]))\n",
    "    def print_report(self):\n",
    "        print(\"Employee: \", self.employee_name)\n",
    "        print(\"Total sales:\", self.total_amount())\n",
    "        print(\"Average sales:\", self.average_deal())\n",
    "        print(\"Companies:\", self.all_companies())\n",
    "report = SalesReport(\"Ivan Semenov\")\n",
    "report.add_deal(\"PepsiCo\", 120_000)\n",
    "report.add_deal(\"SkyEng\", 250_000)\n",
    "report.add_deal(\"PepsiCo\", 20_000)\n",
    "report.print_report()\n",
    "# => Employee: Ivan Semenov\n",
    "# Total sales: 390000\n",
    "# Average sales: 130000.0\n",
    "# Companies: ['PepsiCo', 'SkyEng']"
   ]
  },
  {
   "cell_type": "markdown",
   "metadata": {},
   "source": [
    "Задание 4.3\n",
    "\n",
    "Выберите корректные утверждения:\n",
    "\n",
    "    Атрибут — это переменная для объекта\n",
    "\n",
    "    Метод определяется внутри определения класса.\n"
   ]
  },
  {
   "cell_type": "markdown",
   "metadata": {},
   "source": [
    "Задание 4.4\n",
    "\n",
    "Выберите корректные определения класса и его методов.\n",
    "\n",
    "3"
   ]
  }
 ],
 "metadata": {
  "kernelspec": {
   "display_name": "Python 3.10.4 64-bit",
   "language": "python",
   "name": "python3"
  },
  "language_info": {
   "codemirror_mode": {
    "name": "ipython",
    "version": 3
   },
   "file_extension": ".py",
   "mimetype": "text/x-python",
   "name": "python",
   "nbconvert_exporter": "python",
   "pygments_lexer": "ipython3",
   "version": "3.10.4"
  },
  "orig_nbformat": 4,
  "vscode": {
   "interpreter": {
    "hash": "3b86bb4a7c67948f28b40856a4a20f412ff81a4b6377c11c191c16516b072e2a"
   }
  }
 },
 "nbformat": 4,
 "nbformat_minor": 2
}
