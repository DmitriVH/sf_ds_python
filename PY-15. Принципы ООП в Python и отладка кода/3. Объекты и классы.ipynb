{
 "cells": [
  {
   "cell_type": "code",
   "execution_count": 1,
   "metadata": {},
   "outputs": [
    {
     "name": "stdout",
     "output_type": "stream",
     "text": [
      "False\n",
      "(5, 2)\n"
     ]
    }
   ],
   "source": [
    "number = 2.5\n",
    "# Вызовем метод is_integer. Он скажет нам, является ли number целым числом\n",
    "print(number.is_integer())\n",
    "# => False\n",
    "# Давайте попробуем представить number как обыкновенную дробь\n",
    "print(number.as_integer_ratio())\n",
    "# => (5, 2)\n",
    "# Действительно 2.5 = 5/2"
   ]
  },
  {
   "cell_type": "code",
   "execution_count": 3,
   "metadata": {},
   "outputs": [
    {
     "name": "stdout",
     "output_type": "stream",
     "text": [
      "2\n",
      "['Alexandra', 'Stanislav', 'Vasiliy', 'Vasiliy']\n"
     ]
    }
   ],
   "source": [
    "people = [\"Vasiliy\", \"Stanislav\", \"Alexandra\", \"Vasiliy\"]\n",
    "# Посчитаем число Василиев с помощью метода count\n",
    "print(people.count(\"Vasiliy\"))\n",
    "# => 2\n",
    "\n",
    "# Теперь отсортируем\n",
    "people.sort()\n",
    "print(people)\n",
    "# => ['Alexandra', 'Stanislav', 'Vasiliy', 'Vasiliy']"
   ]
  },
  {
   "cell_type": "markdown",
   "metadata": {},
   "source": [
    "Задание 3.1\n",
    "\n",
    "Какие из следующих переменных мы можем рассматривать как объекты?\n",
    "\n",
    "i = 4\n",
    "\n",
    "tasks = [\"Wash dishes\", \"Clean floor\", \"Watch GoT season finale\"]\n",
    "\n",
    "email = \"pony91@mail.ru\"\n"
   ]
  },
  {
   "cell_type": "code",
   "execution_count": 4,
   "metadata": {},
   "outputs": [
    {
     "name": "stdout",
     "output_type": "stream",
     "text": [
      "<class 'float'>\n",
      "<class 'list'>\n"
     ]
    }
   ],
   "source": [
    "number = 2.5\n",
    "print(number.__class__)\n",
    "# => <class 'float'>\n",
    "people = [\"Vasiliy\", \"Stanislav\", \"Alexandra\", \"Vasiliy\"]\n",
    "print(people.__class__)\n",
    "# => <class 'list'>"
   ]
  },
  {
   "cell_type": "code",
   "execution_count": 6,
   "metadata": {},
   "outputs": [],
   "source": [
    "# Используем ключевое слово class, за которым идёт название класса, в примере это SalesReport\n",
    "class SalesReport():\n",
    "    pass"
   ]
  },
  {
   "cell_type": "code",
   "execution_count": 7,
   "metadata": {},
   "outputs": [],
   "source": [
    "# Сравните это с определением пустой функции\n",
    "# Команда pass не делает ничего; на её месте могли быть другие инструкции\n",
    "# Мы используем её только потому, что синтаксически python требует, чтобы там было хоть что-то\n",
    "def build_report():\n",
    "    pass"
   ]
  },
  {
   "cell_type": "code",
   "execution_count": 9,
   "metadata": {},
   "outputs": [],
   "source": [
    "# И давайте определим ещё один класс\n",
    "# Для имён классов традиционно используются имена в формате CamelCase, где начала слов отмечаются большими буквами\n",
    "# Это позволяет легко отличать их от функций, которые пишутся в формате snake_case\n",
    "class SkillfactoryStudent():\n",
    "    pass"
   ]
  },
  {
   "cell_type": "markdown",
   "metadata": {},
   "source": [
    "Задание 3.2\n",
    "\n",
    "Определите пустой класс DepartmentReport ."
   ]
  },
  {
   "cell_type": "code",
   "execution_count": 10,
   "metadata": {},
   "outputs": [],
   "source": [
    "class DepartmentReport():\n",
    "    pass"
   ]
  },
  {
   "cell_type": "code",
   "execution_count": 15,
   "metadata": {},
   "outputs": [
    {
     "name": "stdout",
     "output_type": "stream",
     "text": [
      "False\n"
     ]
    }
   ],
   "source": [
    "class SalesReport():\n",
    "    pass\n",
    "# создаём объект по классу\n",
    "report = SalesReport()\n",
    "# мы можем создавать множество объектов по одному классу\n",
    "report_2 = SalesReport()\n",
    "# Это будут разные объекты.\n",
    "print(report == report_2)\n",
    "# => False"
   ]
  },
  {
   "cell_type": "markdown",
   "metadata": {},
   "source": [
    "Задание 3.3\n",
    "\n",
    "Скопируйте определение DepartmentReport из предыдущего задания и создайте объект\n",
    "department_report по нему."
   ]
  },
  {
   "cell_type": "code",
   "execution_count": 16,
   "metadata": {},
   "outputs": [],
   "source": [
    "class DepartmentReport():\n",
    "    pass\n",
    "department_report = DepartmentReport()"
   ]
  }
 ],
 "metadata": {
  "kernelspec": {
   "display_name": "Python 3.10.4 64-bit",
   "language": "python",
   "name": "python3"
  },
  "language_info": {
   "codemirror_mode": {
    "name": "ipython",
    "version": 3
   },
   "file_extension": ".py",
   "mimetype": "text/x-python",
   "name": "python",
   "nbconvert_exporter": "python",
   "pygments_lexer": "ipython3",
   "version": "3.10.4"
  },
  "orig_nbformat": 4,
  "vscode": {
   "interpreter": {
    "hash": "3b86bb4a7c67948f28b40856a4a20f412ff81a4b6377c11c191c16516b072e2a"
   }
  }
 },
 "nbformat": 4,
 "nbformat_minor": 2
}
