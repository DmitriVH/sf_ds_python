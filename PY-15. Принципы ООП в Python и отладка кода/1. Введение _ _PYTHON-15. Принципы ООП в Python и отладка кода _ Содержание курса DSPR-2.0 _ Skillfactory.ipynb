{
 "cells": [
  {
   "cell_type": "markdown",
   "metadata": {},
   "source": [
    "методы:\n",
    "turtle.forward(100)\n",
    "turtle.up()\n",
    "turtle.left(90)\n",
    "\n",
    "свойства:\n",
    "turtle.color = ‘red’\n",
    "turtle.width = 100\n"
   ]
  }
 ],
 "metadata": {
  "language_info": {
   "name": "python"
  },
  "orig_nbformat": 4
 },
 "nbformat": 4,
 "nbformat_minor": 2
}
