c = Counter()
for car in cars:
    c[car] += 1
 
print(c)